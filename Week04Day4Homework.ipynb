{
 "cells": [
  {
   "attachments": {},
   "cell_type": "markdown",
   "id": "7196054f",
   "metadata": {},
   "source": [
    "# Coding Temple Week04 Day 4 Homework"
   ]
  },
  {
   "cell_type": "markdown",
   "id": "6d546014",
   "metadata": {},
   "source": [
    "# <strong>Homework</strong>\n",
    "check out this Pokemon API https://pokeapi.co/\n",
    "Use the requests package to connect to this API and get and store data for 5 different pokemon.\n",
    "Get the pokemons: name, atleast one ability's name, base_experience, and the URL for its sprite (an image that shows up on screen) for the 'front_shiny', attack base_state, hp base_stat, defense base_stat"
   ]
  },
  {
   "attachments": {},
   "cell_type": "markdown",
   "id": "cecf2a14",
   "metadata": {},
   "source": [
    "For extra practice, I decided to experiment with caching."
   ]
  },
  {
   "cell_type": "code",
   "execution_count": 85,
   "id": "b1ed81e7",
   "metadata": {},
   "outputs": [],
   "source": [
    "import requests, json, os\n",
    "\n",
    "def create_pokemon_dict_from_api(from_api):\n",
    "    # Check if have name cached\n",
    "    pokemon = dict()\n",
    "    # Add abilities\n",
    "    pokemon['abilities'] = []\n",
    "    for ability in from_api[\"abilities\"]:\n",
    "        pokemon['abilities'].append(ability['ability'][\"name\"])\n",
    "\n",
    "    # Add Base Experience\n",
    "    pokemon['base_experience'] = from_api['base_experience']\n",
    "\n",
    "    # Add Stats\n",
    "    pokemon['stats'] = dict()\n",
    "    for stat in from_api['stats']:\n",
    "        stat_val = stat['base_stat']\n",
    "        stat_name = stat['stat']['name']\n",
    "        pokemon['stats'][stat_name] = stat_val\n",
    "\n",
    "    # Add Shiny Sprite\n",
    "    pokemon['shiny_sprite_url'] = from_api['sprites']['front_shiny']\n",
    "    return pokemon\n",
    "\n",
    "def PokePrint():\n",
    "    print(\"Welcome to PokePrint\")\n",
    "    print(\"You can leave at any time by typing 'leave'\")\n",
    "    wants_to_continue = True\n",
    "    while wants_to_continue:\n",
    "        print(\"Please enter the name of a pokemon you would like to look up?\")\n",
    "        name = input().strip().lower()\n",
    "\n",
    "        if name == \"leave\":\n",
    "            print(\"Thanks! I hope you use PokePrint sometime again soon\")\n",
    "            return\n",
    "\n",
    "        # Check if have record of name\n",
    "        if f\"{name}.json\" in os.listdir(\"pokemon/\"):\n",
    "            # If have record get pokemon dictionary\n",
    "            with open(f'pokemon/{name}.json','r') as openfile:\n",
    "                pokemon = json.load(openfile)\n",
    "        else:\n",
    "            url = f\"https://pokeapi.co/api/v2/pokemon/{name}\"\n",
    "            response = requests.get(url)\n",
    "            if not response.ok or not name:\n",
    "                print(\"Sorry, that was not a valid pokemon name\")\n",
    "                print(\"Please try again or enter 'leave' to quit\")\n",
    "                continue\n",
    "            \n",
    "            # Gets a slimmed down pokemon dictionary\n",
    "            pokemon = create_pokemon_dict_from_api(response.json())\n",
    "\n",
    "            # Adds stored slimmed down pokemon dictionary for future use\n",
    "            with open(f\"pokemon/{name}.json\",\"w\") as outfile:\n",
    "                outfile.write(json.dumps(pokemon))\n",
    "        print(f\"Pokemon's name is {name}\")\n",
    "        print()\n",
    "        print(\"Pokemon's abilities are....\")\n",
    "        # Lists Abilitites\n",
    "        for ability in pokemon[\"abilities\"]:\n",
    "            print(ability)\n",
    "\n",
    "        # Base Experience\n",
    "        print(\"\\nPokemon's base experience\")\n",
    "        print(pokemon['base_experience'])\n",
    "\n",
    "        # \"Lists Stats\"\n",
    "        print(\"\\nPokemon's base stats are...\")\n",
    "        for stat_name,stat_val in pokemon['stats'].items():\n",
    "            print(f\"{stat_name}: {stat_val}\")\n",
    "\n",
    "        # Shiny Image\n",
    "        print(\"\\nURL to front_shiny sprite\")\n",
    "        print(pokemon['shiny_sprite_url'])\n",
    "        print()\n",
    "\n",
    "PokePrint()\n"
   ]
  }
 ],
 "metadata": {
  "kernelspec": {
   "display_name": "Python 3",
   "language": "python",
   "name": "python3"
  },
  "language_info": {
   "codemirror_mode": {
    "name": "ipython",
    "version": 3
   },
   "file_extension": ".py",
   "mimetype": "text/x-python",
   "name": "python",
   "nbconvert_exporter": "python",
   "pygments_lexer": "ipython3",
   "version": "3.10.10"
  }
 },
 "nbformat": 4,
 "nbformat_minor": 5
}
